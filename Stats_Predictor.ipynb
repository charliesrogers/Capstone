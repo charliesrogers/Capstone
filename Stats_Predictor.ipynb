{
 "cells": [
  {
   "cell_type": "code",
   "execution_count": null,
   "metadata": {},
   "outputs": [],
   "source": [
    "Code to read csv file into colaboratory:\n",
    "!pip install -U -q PyDrive\n",
    "from pydrive.auth import GoogleAuth\n",
    "from pydrive.drive import GoogleDrive\n",
    "from google.colab import auth\n",
    "from oauth2client.client import GoogleCredentials\n",
    "\n",
    "# 1. Authenticate and create the PyDrive client.\n",
    "auth.authenticate_user()\n",
    "gauth = GoogleAuth()\n",
    "gauth.credentials = GoogleCredentials.get_application_default()\n",
    "drive = GoogleDrive(gauth)"
   ]
  },
  {
   "cell_type": "code",
   "execution_count": null,
   "metadata": {},
   "outputs": [],
   "source": [
    "downloaded = drive.CreateFile({'id':'1JO-jJC96np08BpJbNna76q_rNP2VBdLz'}) # replace the id with id of file you want to access\n",
    "downloaded.GetContentFile('drivers.csv')"
   ]
  },
  {
   "cell_type": "code",
   "execution_count": 1,
   "metadata": {},
   "outputs": [
    {
     "name": "stderr",
     "output_type": "stream",
     "text": [
      "/anaconda3/lib/python3.6/site-packages/h5py/__init__.py:34: FutureWarning: Conversion of the second argument of issubdtype from `float` to `np.floating` is deprecated. In future, it will be treated as `np.float64 == np.dtype(float).type`.\n",
      "  from ._conv import register_converters as _register_converters\n",
      "Using TensorFlow backend.\n",
      "Couldn't import dot_parser, loading of dot files will not be possible.\n"
     ]
    }
   ],
   "source": [
    "import pandas as pd\n",
    "import numpy as np\n",
    "import matplotlib.pyplot as plt\n",
    "import seaborn as sns\n",
    "import requests\n",
    "from datetime import datetime\n",
    "from sklearn import datasets, linear_model\n",
    "from sklearn.linear_model import LinearRegression, Lasso, Ridge, ElasticNet, LassoCV, RidgeCV, ElasticNetCV\n",
    "from sklearn.preprocessing import StandardScaler\n",
    "from sklearn.metrics import mean_squared_error\n",
    "from sklearn.model_selection import train_test_split, GridSearchCV\n",
    "from sklearn.pipeline import Pipeline, FeatureUnion\n",
    "from sklearn.preprocessing import StandardScaler, PolynomialFeatures, FunctionTransformer, Imputer\n",
    "from keras.models import Sequential\n",
    "from keras.layers import Dense, Dropout, LSTM\n",
    "from keras.backend import clear_session\n",
    "from bs4 import BeautifulSoup\n",
    "\n",
    "%matplotlib inline"
   ]
  },
  {
   "cell_type": "markdown",
   "metadata": {},
   "source": [
    "## Webscrape season totals of all players and begin plotting"
   ]
  },
  {
   "cell_type": "code",
   "execution_count": 2,
   "metadata": {},
   "outputs": [],
   "source": [
    "res = requests.get('https://www.basketball-reference.com/leagues/NBA_2018_totals.html')"
   ]
  },
  {
   "cell_type": "code",
   "execution_count": 3,
   "metadata": {},
   "outputs": [],
   "source": [
    "soup = BeautifulSoup(res.content, 'lxml')"
   ]
  },
  {
   "cell_type": "code",
   "execution_count": 13,
   "metadata": {},
   "outputs": [],
   "source": [
    "all_player_stats = []\n",
    "\n",
    "table = soup.find('table', {'id': 'totals_stats'})\n",
    "\n",
    "rows = table.find('tbody').find_all('tr')\n",
    "\n",
    "for player_row in rows:\n",
    "    player = {}\n",
    "    \n",
    "    if player_row.find('a'):\n",
    "        player['Name'] = player_row.find('a').text\n",
    "    if player_row.find('td'):\n",
    "        player['Pos'] = player_row.find('td', {'class': 'center'}).text\n",
    "    if player_row.find('td'):\n",
    "        player['Age'] = player_row.find('td', {'class': 'right'}).text\n",
    "    if player_row.find('td'):\n",
    "        player['Team'] = player_row.find('td', {'data-stat':'team_id'}).text\n",
    "    if player_row.find('td'):\n",
    "        player['Games'] = player_row.find('td', {'data-stat': 'g'}).text\n",
    "    if player_row.find('td'):\n",
    "        player['Starts'] = player_row.find('td', {'data-stat': 'gs'}).text\n",
    "    if player_row.find('td'):\n",
    "        player['MPG'] = player_row.find('td', {'data-stat': 'mp'}).text\n",
    "    if player_row.find('td'):\n",
    "        player['FG'] = player_row.find('td', {'data-stat': 'fg'}).text\n",
    "    if player_row.find('td'):\n",
    "        player['FGA'] = player_row.find('td', {'data-stat': 'fga'}).text\n",
    "    if player_row.find('td'):\n",
    "         player['FG%'] = player_row.find('td', {'data-stat': 'fg_pct'}).text\n",
    "    if player_row.find('td'):\n",
    "        player['3FG'] = player_row.find('td', {'data-stat': 'fg3'}).text\n",
    "    if player_row.find('td'):\n",
    "        player['3FGA'] = player_row.find('td', {'data-stat': 'fg3a'}).text    \n",
    "    if player_row.find('td'):\n",
    "        player['FG3%'] = player_row.find('td', {'data-stat': 'fg3_pct'}).text\n",
    "    if player_row.find('td'):\n",
    "        player['2P'] = player_row.find('td', {'data-stat': 'fg2'}).text    \n",
    "    if player_row.find('td'):\n",
    "        player['2PA'] = player_row.find('td', {'data-stat': 'fg2a'}).text\n",
    "    if player_row.find('td'):\n",
    "        player['2P%'] = player_row.find('td', {'data-stat': 'fg2_pct'}).text    \n",
    "    if player_row.find('td'):\n",
    "        player['eFG%'] = player_row.find('td', {'data-stat': 'efg_pct'}).text\n",
    "    if player_row.find('td'):\n",
    "        player['FT'] = player_row.find('td', {'data-stat': 'ft'}).text    \n",
    "    if player_row.find('td'):\n",
    "        player['FTA'] = player_row.find('td', {'data-stat': 'fta'}).text\n",
    "    if player_row.find('td'):\n",
    "        player['FT%'] = player_row.find('td', {'data-stat': 'ft_pct'}).text    \n",
    "    if player_row.find('td'):\n",
    "        player['ORB'] = player_row.find('td', {'data-stat': 'orb'}).text\n",
    "    if player_row.find('td'):\n",
    "        player['DRB'] = player_row.find('td', {'data-stat': 'drb'}).text    \n",
    "    if player_row.find('td'):\n",
    "        player['TRB'] = player_row.find('td', {'data-stat': 'trb'}).text    \n",
    "    if player_row.find('td'):\n",
    "        player['AST'] = player_row.find('td', {'data-stat': 'ast'}).text    \n",
    "    if player_row.find('td'):\n",
    "        player['STL'] = player_row.find('td', {'data-stat': 'stl'}).text    \n",
    "    if player_row.find('td'):\n",
    "        player['BLK'] = player_row.find('td', {'data-stat': 'blk'}).text    \n",
    "    if player_row.find('td'):\n",
    "        player['TOV'] = player_row.find('td', {'data-stat': 'tov'}).text    \n",
    "    if player_row.find('td'):\n",
    "        player['PF'] = player_row.find('td', {'data-stat': 'pf'}).text    \n",
    "    if player_row.find('td'):\n",
    "        player['PTS'] = player_row.find('td', {'data-stat': 'pts'}).text    \n",
    "               \n",
    "   \n",
    "    all_player_stats.append(player)\n",
    "player_stats = pd.DataFrame(all_player_stats)"
   ]
  },
  {
   "cell_type": "markdown",
   "metadata": {},
   "source": [
    "#### remove header columns from website"
   ]
  },
  {
   "cell_type": "code",
   "execution_count": 14,
   "metadata": {},
   "outputs": [
    {
     "data": {
      "text/html": [
       "<div>\n",
       "<table border=\"1\" class=\"dataframe\">\n",
       "  <thead>\n",
       "    <tr style=\"text-align: right;\">\n",
       "      <th></th>\n",
       "      <th>2P</th>\n",
       "      <th>2P%</th>\n",
       "      <th>2PA</th>\n",
       "      <th>3FG</th>\n",
       "      <th>3FGA</th>\n",
       "      <th>AST</th>\n",
       "      <th>Age</th>\n",
       "      <th>BLK</th>\n",
       "      <th>DRB</th>\n",
       "      <th>FG</th>\n",
       "      <th>...</th>\n",
       "      <th>ORB</th>\n",
       "      <th>PF</th>\n",
       "      <th>PTS</th>\n",
       "      <th>Pos</th>\n",
       "      <th>STL</th>\n",
       "      <th>Starts</th>\n",
       "      <th>TOV</th>\n",
       "      <th>TRB</th>\n",
       "      <th>Team</th>\n",
       "      <th>eFG%</th>\n",
       "    </tr>\n",
       "  </thead>\n",
       "  <tbody>\n",
       "    <tr>\n",
       "      <th>0</th>\n",
       "      <td>30</td>\n",
       "      <td>.435</td>\n",
       "      <td>69</td>\n",
       "      <td>83</td>\n",
       "      <td>213</td>\n",
       "      <td>27</td>\n",
       "      <td>24</td>\n",
       "      <td>8</td>\n",
       "      <td>84</td>\n",
       "      <td>113</td>\n",
       "      <td>...</td>\n",
       "      <td>24</td>\n",
       "      <td>120</td>\n",
       "      <td>344</td>\n",
       "      <td>SG</td>\n",
       "      <td>36</td>\n",
       "      <td>8</td>\n",
       "      <td>25</td>\n",
       "      <td>108</td>\n",
       "      <td>OKC</td>\n",
       "      <td>.548</td>\n",
       "    </tr>\n",
       "    <tr>\n",
       "      <th>1</th>\n",
       "      <td>25</td>\n",
       "      <td>.362</td>\n",
       "      <td>69</td>\n",
       "      <td>93</td>\n",
       "      <td>272</td>\n",
       "      <td>55</td>\n",
       "      <td>27</td>\n",
       "      <td>27</td>\n",
       "      <td>206</td>\n",
       "      <td>118</td>\n",
       "      <td>...</td>\n",
       "      <td>38</td>\n",
       "      <td>141</td>\n",
       "      <td>377</td>\n",
       "      <td>PF</td>\n",
       "      <td>30</td>\n",
       "      <td>8</td>\n",
       "      <td>59</td>\n",
       "      <td>244</td>\n",
       "      <td>BRK</td>\n",
       "      <td>.482</td>\n",
       "    </tr>\n",
       "    <tr>\n",
       "      <th>2</th>\n",
       "      <td>431</td>\n",
       "      <td>.629</td>\n",
       "      <td>685</td>\n",
       "      <td>0</td>\n",
       "      <td>2</td>\n",
       "      <td>84</td>\n",
       "      <td>24</td>\n",
       "      <td>77</td>\n",
       "      <td>289</td>\n",
       "      <td>431</td>\n",
       "      <td>...</td>\n",
       "      <td>378</td>\n",
       "      <td>210</td>\n",
       "      <td>1013</td>\n",
       "      <td>C</td>\n",
       "      <td>89</td>\n",
       "      <td>73</td>\n",
       "      <td>124</td>\n",
       "      <td>667</td>\n",
       "      <td>OKC</td>\n",
       "      <td>.627</td>\n",
       "    </tr>\n",
       "    <tr>\n",
       "      <th>3</th>\n",
       "      <td>169</td>\n",
       "      <td>.518</td>\n",
       "      <td>326</td>\n",
       "      <td>0</td>\n",
       "      <td>7</td>\n",
       "      <td>100</td>\n",
       "      <td>20</td>\n",
       "      <td>40</td>\n",
       "      <td>258</td>\n",
       "      <td>169</td>\n",
       "      <td>...</td>\n",
       "      <td>115</td>\n",
       "      <td>136</td>\n",
       "      <td>461</td>\n",
       "      <td>C</td>\n",
       "      <td>32</td>\n",
       "      <td>19</td>\n",
       "      <td>66</td>\n",
       "      <td>373</td>\n",
       "      <td>MIA</td>\n",
       "      <td>.508</td>\n",
       "    </tr>\n",
       "    <tr>\n",
       "      <th>4</th>\n",
       "      <td>35</td>\n",
       "      <td>.393</td>\n",
       "      <td>89</td>\n",
       "      <td>25</td>\n",
       "      <td>66</td>\n",
       "      <td>29</td>\n",
       "      <td>32</td>\n",
       "      <td>9</td>\n",
       "      <td>62</td>\n",
       "      <td>60</td>\n",
       "      <td>...</td>\n",
       "      <td>4</td>\n",
       "      <td>54</td>\n",
       "      <td>167</td>\n",
       "      <td>SG</td>\n",
       "      <td>4</td>\n",
       "      <td>3</td>\n",
       "      <td>21</td>\n",
       "      <td>66</td>\n",
       "      <td>ORL</td>\n",
       "      <td>.468</td>\n",
       "    </tr>\n",
       "  </tbody>\n",
       "</table>\n",
       "<p>5 rows × 29 columns</p>\n",
       "</div>"
      ],
      "text/plain": [
       "    2P   2P%  2PA 3FG 3FGA  AST Age BLK  DRB   FG  ...   ORB   PF   PTS Pos  \\\n",
       "0   30  .435   69  83  213   27  24   8   84  113  ...    24  120   344  SG   \n",
       "1   25  .362   69  93  272   55  27  27  206  118  ...    38  141   377  PF   \n",
       "2  431  .629  685   0    2   84  24  77  289  431  ...   378  210  1013   C   \n",
       "3  169  .518  326   0    7  100  20  40  258  169  ...   115  136   461   C   \n",
       "4   35  .393   89  25   66   29  32   9   62   60  ...     4   54   167  SG   \n",
       "\n",
       "  STL Starts  TOV  TRB Team  eFG%  \n",
       "0  36      8   25  108  OKC  .548  \n",
       "1  30      8   59  244  BRK  .482  \n",
       "2  89     73  124  667  OKC  .627  \n",
       "3  32     19   66  373  MIA  .508  \n",
       "4   4      3   21   66  ORL  .468  \n",
       "\n",
       "[5 rows x 29 columns]"
      ]
     },
     "execution_count": 14,
     "metadata": {},
     "output_type": "execute_result"
    }
   ],
   "source": [
    "player_stats.head()"
   ]
  },
  {
   "cell_type": "code",
   "execution_count": 15,
   "metadata": {},
   "outputs": [],
   "source": [
    "player_stats.dropna(inplace= True)"
   ]
  },
  {
   "cell_type": "markdown",
   "metadata": {},
   "source": [
    "#### Create Columns with only strings"
   ]
  },
  {
   "cell_type": "code",
   "execution_count": 19,
   "metadata": {},
   "outputs": [],
   "source": [
    "new_totals_col = player_stats.columns[~player_stats.columns.isin(['Name', 'Team', 'Pos'])]"
   ]
  },
  {
   "cell_type": "markdown",
   "metadata": {},
   "source": [
    "#### convert objects --> strings\n"
   ]
  },
  {
   "cell_type": "code",
   "execution_count": 20,
   "metadata": {},
   "outputs": [],
   "source": [
    "graph_totals = player_stats[new_totals_col].apply(pd.to_numeric)"
   ]
  },
  {
   "cell_type": "markdown",
   "metadata": {},
   "source": [
    "#### Grab players who have started 5 games"
   ]
  },
  {
   "cell_type": "code",
   "execution_count": 38,
   "metadata": {},
   "outputs": [],
   "source": [
    "Player_totals = graph_totals[graph_totals['Starts'] > 5]"
   ]
  },
  {
   "cell_type": "code",
   "execution_count": 39,
   "metadata": {},
   "outputs": [
    {
     "data": {
      "text/plain": [
       "(318, 26)"
      ]
     },
     "execution_count": 39,
     "metadata": {},
     "output_type": "execute_result"
    }
   ],
   "source": [
    "Player_totals.shape"
   ]
  },
  {
   "cell_type": "code",
   "execution_count": 40,
   "metadata": {},
   "outputs": [
    {
     "data": {
      "image/png": "[encoded data removed]",
      "text/plain": [
       "<matplotlib.figure.Figure at 0x12473b588>"
      ]
     },
     "metadata": {},
     "output_type": "display_data"
    }
   ],
   "source": [
    "def correlation_heat_map(df):\n",
    "   corrs = df.corr()\n",
    "\n",
    "   # Set the default matplotlib figure size:\n",
    "   fig, ax = plt.subplots(figsize=(14,10\n",
    "                                  ))\n",
    "\n",
    "   # Generate a mask for the upper triangle (taken from seaborn example gallery)\n",
    "   mask = np.zeros_like(corrs, dtype=np.bool)\n",
    "   mask[np.triu_indices_from(mask)] = True\n",
    "\n",
    "   # Plot the heatmap with seaborn.\n",
    "   # Assign the matplotlib axis the function returns. This will let us resize the labels.\n",
    "   ax = sns.heatmap(corrs, mask=mask, annot=True)\n",
    "\n",
    "   # Resize the labels.\n",
    "   ax.set_xticklabels(ax.xaxis.get_ticklabels(), fontsize=14, rotation=30)\n",
    "   ax.set_yticklabels(ax.yaxis.get_ticklabels(), fontsize=14, rotation=0)\n",
    "\n",
    "   # If you put plt.show() at the bottom, it prevents those useless printouts from matplotlib.\n",
    "   plt.show()\n",
    "   \n",
    "correlation_heat_map(Player_totals)"
   ]
  },
  {
   "cell_type": "code",
   "execution_count": 41,
   "metadata": {},
   "outputs": [],
   "source": [
    "# fig, ax = plt.subplots(figsize=(14,10))\n",
    "# sns.distplot(LBJ['PTS_x'])\n",
    "# plt.title(\"Distribution of LBJ Pts/Game\");"
   ]
  },
  {
   "cell_type": "code",
   "execution_count": 42,
   "metadata": {},
   "outputs": [
    {
     "data": {
      "image/png": "[encoded data removed]",
      "text/plain": [
       "<matplotlib.figure.Figure at 0x1240677b8>"
      ]
     },
     "metadata": {},
     "output_type": "display_data"
    }
   ],
   "source": [
    "fig, ax = plt.subplots(figsize=(10,10\n",
    "                               ))\n",
    "\n",
    "\n",
    "ax = sns.regplot(x=\"FGA\", y=\"PTS\", data=Player_totals, fit_reg=False)\n",
    "\n",
    "plt.show;"
   ]
  },
  {
   "cell_type": "code",
   "execution_count": 43,
   "metadata": {},
   "outputs": [],
   "source": [
    "totals['PTS'] = pd.to_numeric(totals['PTS'])"
   ]
  },
  {
   "cell_type": "code",
   "execution_count": 44,
   "metadata": {},
   "outputs": [
    {
     "data": {
      "image/png": "[encoded data removed]",
      "text/plain": [
       "<matplotlib.figure.Figure at 0x123c4b550>"
      ]
     },
     "metadata": {},
     "output_type": "display_data"
    }
   ],
   "source": [
    "fig, ax = plt.subplots(figsize=(12,10\n",
    "                               ))\n",
    "sns.set_style(\"whitegrid\")\n",
    "\n",
    "\n",
    "ax = sns.barplot(x=\"PTS\", y=\"Pos\", data=totals.sort_values('PTS', ascending=True))\n",
    "plt.show;"
   ]
  },
  {
   "cell_type": "code",
   "execution_count": null,
   "metadata": {},
   "outputs": [],
   "source": []
  },
  {
   "cell_type": "markdown",
   "metadata": {},
   "source": [
    "## Import Datasets"
   ]
  },
  {
   "cell_type": "code",
   "execution_count": 45,
   "metadata": {},
   "outputs": [],
   "source": [
    "dateparse1 = lambda dates: pd.datetime.strptime(dates, '%m/%d/%y')\n",
    "dateparse2 = lambda dates: pd.datetime.strptime(dates, '%m/%d/%Y')\n",
    "\n",
    "data1 = pd.read_csv('team_stats_season_long.csv', parse_dates=['DATE'], index_col=['DATE'], date_parser=dateparse1)\n",
    "data2 = pd.read_csv('season-player-feed.csv', parse_dates=['DATE'], index_col=['DATE'], date_parser=dateparse2)\n",
    "data1.reset_index(inplace=True)\n",
    "data2.reset_index(inplace=True)\n"
   ]
  },
  {
   "cell_type": "code",
   "execution_count": 46,
   "metadata": {},
   "outputs": [
    {
     "data": {
      "text/plain": [
       "Index(['DATE', 'DATASET', 'TEAMS', 'VENUE', 'PTS', 'POSS', 'PACE', 'OEFF',\n",
       "       'DEFF', 'REST DAYS', 'OPENING ODDS', 'OPENING SPREAD', 'OPENING TOTAL',\n",
       "       'MOVEMENTS', 'CLOSING ODDS', 'MONEYLINE', 'HALFTIME'],\n",
       "      dtype='object')"
      ]
     },
     "execution_count": 46,
     "metadata": {},
     "output_type": "execute_result"
    }
   ],
   "source": [
    "data1.columns"
   ]
  },
  {
   "cell_type": "code",
   "execution_count": 47,
   "metadata": {},
   "outputs": [
    {
     "data": {
      "text/plain": [
       "Index(['DATE', 'DATA SET', 'PLAYER FULL NAME', 'POSITION', 'OWN TEAM',\n",
       "       'OPP TEAM', 'VENUE (R/H)', 'MIN', 'FG', 'FGA', '3P', '3PA', 'FT', 'FTA',\n",
       "       'OR', 'DR', 'TOT', 'A', 'PF', 'ST', 'TO', 'BL', 'PTS'],\n",
       "      dtype='object')"
      ]
     },
     "execution_count": 47,
     "metadata": {},
     "output_type": "execute_result"
    }
   ],
   "source": [
    "data2.columns"
   ]
  },
  {
   "cell_type": "markdown",
   "metadata": {},
   "source": [
    "### Shift Player Statistics one game allowing for current game data to be past data"
   ]
  },
  {
   "cell_type": "code",
   "execution_count": 48,
   "metadata": {},
   "outputs": [],
   "source": [
    "Player_stats = pd.DataFrame()\n",
    "for i in data2['PLAYER FULL NAME'].unique():\n",
    "    temp1 = data2[data2['PLAYER FULL NAME'] == i]\n",
    "    temp2 = temp1[['VENUE (R/H)', 'MIN', 'FG', 'FGA', '3P', '3PA', 'FT', 'FTA',\n",
    "       'OR', 'DR', 'TOT', 'A', 'PF', 'ST', 'TO', 'BL', 'PTS']]\n",
    "    temp2 = temp2.shift(1)\n",
    "    temp1 = temp1[['DATE', 'DATA SET', 'PLAYER FULL NAME', 'POSITION', 'OWN TEAM',\n",
    "       'OPP TEAM']]\n",
    "    temp1 = pd.concat([temp1, temp2], axis=1)\n",
    "#     temp1 = temp1[1:]\n",
    "    Player_stats = pd.concat([Player_stats, temp1], axis=0)"
   ]
  },
  {
   "cell_type": "code",
   "execution_count": 49,
   "metadata": {},
   "outputs": [
    {
     "data": {
      "text/plain": [
       "Index(['DATE', 'DATA SET', 'PLAYER FULL NAME', 'POSITION', 'OWN TEAM',\n",
       "       'OPP TEAM', 'VENUE (R/H)', 'MIN', 'FG', 'FGA', '3P', '3PA', 'FT', 'FTA',\n",
       "       'OR', 'DR', 'TOT', 'A', 'PF', 'ST', 'TO', 'BL', 'PTS'],\n",
       "      dtype='object')"
      ]
     },
     "execution_count": 49,
     "metadata": {},
     "output_type": "execute_result"
    }
   ],
   "source": [
    "Player_stats.columns"
   ]
  },
  {
   "cell_type": "code",
   "execution_count": 50,
   "metadata": {},
   "outputs": [
    {
     "data": {
      "text/plain": [
       "(24773, 23)"
      ]
     },
     "execution_count": 50,
     "metadata": {},
     "output_type": "execute_result"
    }
   ],
   "source": [
    "Player_stats.shape"
   ]
  },
  {
   "cell_type": "code",
   "execution_count": 51,
   "metadata": {},
   "outputs": [
    {
     "data": {
      "text/html": [
       "<div>\n",
       "<table border=\"1\" class=\"dataframe\">\n",
       "  <thead>\n",
       "    <tr style=\"text-align: right;\">\n",
       "      <th></th>\n",
       "      <th>DATE</th>\n",
       "      <th>DATA SET</th>\n",
       "      <th>PLAYER FULL NAME</th>\n",
       "      <th>POSITION</th>\n",
       "      <th>OWN TEAM</th>\n",
       "      <th>OPP TEAM</th>\n",
       "      <th>VENUE (R/H)</th>\n",
       "      <th>MIN</th>\n",
       "      <th>FG</th>\n",
       "      <th>FGA</th>\n",
       "      <th>...</th>\n",
       "      <th>FTA</th>\n",
       "      <th>OR</th>\n",
       "      <th>DR</th>\n",
       "      <th>TOT</th>\n",
       "      <th>A</th>\n",
       "      <th>PF</th>\n",
       "      <th>ST</th>\n",
       "      <th>TO</th>\n",
       "      <th>BL</th>\n",
       "      <th>PTS</th>\n",
       "    </tr>\n",
       "  </thead>\n",
       "  <tbody>\n",
       "    <tr>\n",
       "      <th>0</th>\n",
       "      <td>2017-10-17</td>\n",
       "      <td>2017-2018 Regular Season</td>\n",
       "      <td>Gordon Hayward</td>\n",
       "      <td>SF</td>\n",
       "      <td>Boston</td>\n",
       "      <td>Cleveland</td>\n",
       "      <td>NaN</td>\n",
       "      <td>NaN</td>\n",
       "      <td>NaN</td>\n",
       "      <td>NaN</td>\n",
       "      <td>...</td>\n",
       "      <td>NaN</td>\n",
       "      <td>NaN</td>\n",
       "      <td>NaN</td>\n",
       "      <td>NaN</td>\n",
       "      <td>NaN</td>\n",
       "      <td>NaN</td>\n",
       "      <td>NaN</td>\n",
       "      <td>NaN</td>\n",
       "      <td>NaN</td>\n",
       "      <td>NaN</td>\n",
       "    </tr>\n",
       "    <tr>\n",
       "      <th>1</th>\n",
       "      <td>2017-10-17</td>\n",
       "      <td>2017-2018 Regular Season</td>\n",
       "      <td>Jayson Tatum</td>\n",
       "      <td>SF</td>\n",
       "      <td>Boston</td>\n",
       "      <td>Cleveland</td>\n",
       "      <td>NaN</td>\n",
       "      <td>NaN</td>\n",
       "      <td>NaN</td>\n",
       "      <td>NaN</td>\n",
       "      <td>...</td>\n",
       "      <td>NaN</td>\n",
       "      <td>NaN</td>\n",
       "      <td>NaN</td>\n",
       "      <td>NaN</td>\n",
       "      <td>NaN</td>\n",
       "      <td>NaN</td>\n",
       "      <td>NaN</td>\n",
       "      <td>NaN</td>\n",
       "      <td>NaN</td>\n",
       "      <td>NaN</td>\n",
       "    </tr>\n",
       "    <tr>\n",
       "      <th>130</th>\n",
       "      <td>2017-10-18</td>\n",
       "      <td>2017-2018 Regular Season</td>\n",
       "      <td>Jayson Tatum</td>\n",
       "      <td>SF</td>\n",
       "      <td>Boston</td>\n",
       "      <td>Milwaukee</td>\n",
       "      <td>R</td>\n",
       "      <td>36.5</td>\n",
       "      <td>5.0</td>\n",
       "      <td>12.0</td>\n",
       "      <td>...</td>\n",
       "      <td>3.0</td>\n",
       "      <td>4.0</td>\n",
       "      <td>6.0</td>\n",
       "      <td>10.0</td>\n",
       "      <td>3.0</td>\n",
       "      <td>4.0</td>\n",
       "      <td>0.0</td>\n",
       "      <td>1.0</td>\n",
       "      <td>0.0</td>\n",
       "      <td>14.0</td>\n",
       "    </tr>\n",
       "    <tr>\n",
       "      <th>390</th>\n",
       "      <td>2017-10-20</td>\n",
       "      <td>2017-2018 Regular Season</td>\n",
       "      <td>Jayson Tatum</td>\n",
       "      <td>SF</td>\n",
       "      <td>Boston</td>\n",
       "      <td>Philadelphia</td>\n",
       "      <td>H</td>\n",
       "      <td>36.5</td>\n",
       "      <td>3.0</td>\n",
       "      <td>7.0</td>\n",
       "      <td>...</td>\n",
       "      <td>5.0</td>\n",
       "      <td>2.0</td>\n",
       "      <td>7.0</td>\n",
       "      <td>9.0</td>\n",
       "      <td>2.0</td>\n",
       "      <td>3.0</td>\n",
       "      <td>1.0</td>\n",
       "      <td>2.0</td>\n",
       "      <td>0.0</td>\n",
       "      <td>8.0</td>\n",
       "    </tr>\n",
       "    <tr>\n",
       "      <th>1096</th>\n",
       "      <td>2017-10-24</td>\n",
       "      <td>2017-2018 Regular Season</td>\n",
       "      <td>Jayson Tatum</td>\n",
       "      <td>SF</td>\n",
       "      <td>Boston</td>\n",
       "      <td>New York</td>\n",
       "      <td>R</td>\n",
       "      <td>32.8</td>\n",
       "      <td>3.0</td>\n",
       "      <td>8.0</td>\n",
       "      <td>...</td>\n",
       "      <td>9.0</td>\n",
       "      <td>2.0</td>\n",
       "      <td>6.0</td>\n",
       "      <td>8.0</td>\n",
       "      <td>0.0</td>\n",
       "      <td>3.0</td>\n",
       "      <td>0.0</td>\n",
       "      <td>3.0</td>\n",
       "      <td>3.0</td>\n",
       "      <td>15.0</td>\n",
       "    </tr>\n",
       "  </tbody>\n",
       "</table>\n",
       "<p>5 rows × 23 columns</p>\n",
       "</div>"
      ],
      "text/plain": [
       "           DATE                  DATA SET PLAYER FULL NAME POSITION OWN TEAM  \\\n",
       "0    2017-10-17  2017-2018 Regular Season   Gordon Hayward       SF   Boston   \n",
       "1    2017-10-17  2017-2018 Regular Season     Jayson Tatum       SF   Boston   \n",
       "130  2017-10-18  2017-2018 Regular Season     Jayson Tatum       SF   Boston   \n",
       "390  2017-10-20  2017-2018 Regular Season     Jayson Tatum       SF   Boston   \n",
       "1096 2017-10-24  2017-2018 Regular Season     Jayson Tatum       SF   Boston   \n",
       "\n",
       "          OPP TEAM VENUE (R/H)   MIN   FG   FGA  ...   FTA   OR   DR   TOT  \\\n",
       "0        Cleveland         NaN   NaN  NaN   NaN  ...   NaN  NaN  NaN   NaN   \n",
       "1        Cleveland         NaN   NaN  NaN   NaN  ...   NaN  NaN  NaN   NaN   \n",
       "130      Milwaukee           R  36.5  5.0  12.0  ...   3.0  4.0  6.0  10.0   \n",
       "390   Philadelphia           H  36.5  3.0   7.0  ...   5.0  2.0  7.0   9.0   \n",
       "1096      New York           R  32.8  3.0   8.0  ...   9.0  2.0  6.0   8.0   \n",
       "\n",
       "        A   PF   ST   TO   BL   PTS  \n",
       "0     NaN  NaN  NaN  NaN  NaN   NaN  \n",
       "1     NaN  NaN  NaN  NaN  NaN   NaN  \n",
       "130   3.0  4.0  0.0  1.0  0.0  14.0  \n",
       "390   2.0  3.0  1.0  2.0  0.0   8.0  \n",
       "1096  0.0  3.0  0.0  3.0  3.0  15.0  \n",
       "\n",
       "[5 rows x 23 columns]"
      ]
     },
     "execution_count": 51,
     "metadata": {},
     "output_type": "execute_result"
    }
   ],
   "source": [
    "Player_stats.head()"
   ]
  },
  {
   "cell_type": "markdown",
   "metadata": {},
   "source": [
    "## Shift team defensive statistics one game "
   ]
  },
  {
   "cell_type": "code",
   "execution_count": 52,
   "metadata": {},
   "outputs": [],
   "source": [
    "defensive = pd.DataFrame()\n",
    "for i in data1['TEAMS'].unique():\n",
    "    temp1 = data1[data1['TEAMS'] == i]\n",
    "    temp1 = temp1.shift(1)\n",
    "    temp1['DATE'] = temp1['DATE'].shift(-1)\n",
    "#     temp1 = temp1[1:]\n",
    "    defensive = pd.concat([defensive, temp1], axis=0)"
   ]
  },
  {
   "cell_type": "markdown",
   "metadata": {},
   "source": [
    "## Shift team offensive statistics one game "
   ]
  },
  {
   "cell_type": "code",
   "execution_count": 53,
   "metadata": {},
   "outputs": [],
   "source": [
    "offensive = pd.DataFrame()\n",
    "for i in data1['TEAMS'].unique():\n",
    "    temp1 = data1[data1['TEAMS'] == i]\n",
    "    temp1 = temp1.shift(1)\n",
    "    temp1['DATE'] = temp1['DATE'].shift(-1)\n",
    "#     temp1 = temp1[1:]\n",
    "    offensive = pd.concat([offensive, temp1], axis=0)"
   ]
  },
  {
   "cell_type": "markdown",
   "metadata": {},
   "source": [
    "### Check to see offensive/defensive teams shifted"
   ]
  },
  {
   "cell_type": "code",
   "execution_count": 54,
   "metadata": {},
   "outputs": [
    {
     "data": {
      "text/html": [
       "<div>\n",
       "<table border=\"1\" class=\"dataframe\">\n",
       "  <thead>\n",
       "    <tr style=\"text-align: right;\">\n",
       "      <th></th>\n",
       "      <th>DATE</th>\n",
       "      <th>DATASET</th>\n",
       "      <th>TEAMS</th>\n",
       "      <th>VENUE</th>\n",
       "      <th>PTS</th>\n",
       "      <th>POSS</th>\n",
       "      <th>PACE</th>\n",
       "      <th>OEFF</th>\n",
       "      <th>DEFF</th>\n",
       "      <th>REST DAYS</th>\n",
       "      <th>OPENING ODDS</th>\n",
       "      <th>OPENING SPREAD</th>\n",
       "      <th>OPENING TOTAL</th>\n",
       "      <th>MOVEMENTS</th>\n",
       "      <th>CLOSING ODDS</th>\n",
       "      <th>MONEYLINE</th>\n",
       "      <th>HALFTIME</th>\n",
       "    </tr>\n",
       "  </thead>\n",
       "  <tbody>\n",
       "    <tr>\n",
       "      <th>13</th>\n",
       "      <td>2017-10-18</td>\n",
       "      <td>2017-2018 Regular Season</td>\n",
       "      <td>Boston</td>\n",
       "      <td>Road</td>\n",
       "      <td>99.0</td>\n",
       "      <td>100.3</td>\n",
       "      <td>100.3</td>\n",
       "      <td>98.7</td>\n",
       "      <td>101.7</td>\n",
       "      <td>3+</td>\n",
       "      <td>214.5</td>\n",
       "      <td>4.0</td>\n",
       "      <td>214.5</td>\n",
       "      <td>215 / 215.5 / 215.5o15</td>\n",
       "      <td>216.0</td>\n",
       "      <td>166.0</td>\n",
       "      <td>110</td>\n",
       "    </tr>\n",
       "    <tr>\n",
       "      <th>36</th>\n",
       "      <td>2017-10-20</td>\n",
       "      <td>2017-2018 Regular Season</td>\n",
       "      <td>Boston</td>\n",
       "      <td>Home</td>\n",
       "      <td>100.0</td>\n",
       "      <td>99.4</td>\n",
       "      <td>99.4</td>\n",
       "      <td>100.6</td>\n",
       "      <td>108.7</td>\n",
       "      <td>B2B</td>\n",
       "      <td>-6.0</td>\n",
       "      <td>-6.0</td>\n",
       "      <td>208.5</td>\n",
       "      <td>-5</td>\n",
       "      <td>-1.0</td>\n",
       "      <td>-120.0</td>\n",
       "      <td>-2</td>\n",
       "    </tr>\n",
       "  </tbody>\n",
       "</table>\n",
       "</div>"
      ],
      "text/plain": [
       "         DATE                   DATASET   TEAMS VENUE    PTS   POSS   PACE  \\\n",
       "13 2017-10-18  2017-2018 Regular Season  Boston  Road   99.0  100.3  100.3   \n",
       "36 2017-10-20  2017-2018 Regular Season  Boston  Home  100.0   99.4   99.4   \n",
       "\n",
       "     OEFF   DEFF REST DAYS  OPENING ODDS  OPENING SPREAD  OPENING TOTAL  \\\n",
       "13   98.7  101.7        3+         214.5             4.0          214.5   \n",
       "36  100.6  108.7       B2B          -6.0            -6.0          208.5   \n",
       "\n",
       "                 MOVEMENTS  CLOSING ODDS  MONEYLINE HALFTIME  \n",
       "13  215 / 215.5 / 215.5o15         216.0      166.0      110  \n",
       "36                      -5          -1.0     -120.0       -2  "
      ]
     },
     "execution_count": 54,
     "metadata": {},
     "output_type": "execute_result"
    }
   ],
   "source": [
    "offensive[offensive['TEAMS'] == 'Boston'].head(2)"
   ]
  },
  {
   "cell_type": "code",
   "execution_count": 55,
   "metadata": {},
   "outputs": [
    {
     "data": {
      "text/html": [
       "<div>\n",
       "<table border=\"1\" class=\"dataframe\">\n",
       "  <thead>\n",
       "    <tr style=\"text-align: right;\">\n",
       "      <th></th>\n",
       "      <th>DATE</th>\n",
       "      <th>DATASET</th>\n",
       "      <th>TEAMS</th>\n",
       "      <th>VENUE</th>\n",
       "      <th>PTS</th>\n",
       "      <th>POSS</th>\n",
       "      <th>PACE</th>\n",
       "      <th>OEFF</th>\n",
       "      <th>DEFF</th>\n",
       "      <th>REST DAYS</th>\n",
       "      <th>OPENING ODDS</th>\n",
       "      <th>OPENING SPREAD</th>\n",
       "      <th>OPENING TOTAL</th>\n",
       "      <th>MOVEMENTS</th>\n",
       "      <th>CLOSING ODDS</th>\n",
       "      <th>MONEYLINE</th>\n",
       "      <th>HALFTIME</th>\n",
       "    </tr>\n",
       "  </thead>\n",
       "  <tbody>\n",
       "    <tr>\n",
       "      <th>41</th>\n",
       "      <td>2017-10-20</td>\n",
       "      <td>2017-2018 Regular Season</td>\n",
       "      <td>Milwaukee</td>\n",
       "      <td>Road</td>\n",
       "      <td>108.0</td>\n",
       "      <td>99.4</td>\n",
       "      <td>99.4</td>\n",
       "      <td>108.7</td>\n",
       "      <td>100.6</td>\n",
       "      <td>3+</td>\n",
       "      <td>208.5</td>\n",
       "      <td>6.0</td>\n",
       "      <td>208.5</td>\n",
       "      <td>208.5 / 207 / 204</td>\n",
       "      <td>203.0</td>\n",
       "      <td>100.0</td>\n",
       "      <td>101.5</td>\n",
       "    </tr>\n",
       "    <tr>\n",
       "      <th>67</th>\n",
       "      <td>2017-10-21</td>\n",
       "      <td>2017-2018 Regular Season</td>\n",
       "      <td>Milwaukee</td>\n",
       "      <td>Home</td>\n",
       "      <td>97.0</td>\n",
       "      <td>93.7</td>\n",
       "      <td>93.7</td>\n",
       "      <td>103.6</td>\n",
       "      <td>123.8</td>\n",
       "      <td>1</td>\n",
       "      <td>210.0</td>\n",
       "      <td>1.5</td>\n",
       "      <td>210.0</td>\n",
       "      <td>-14</td>\n",
       "      <td>-1.5</td>\n",
       "      <td>-122.0</td>\n",
       "      <td>-2 EVEN</td>\n",
       "    </tr>\n",
       "  </tbody>\n",
       "</table>\n",
       "</div>"
      ],
      "text/plain": [
       "         DATE                   DATASET      TEAMS VENUE    PTS  POSS  PACE  \\\n",
       "41 2017-10-20  2017-2018 Regular Season  Milwaukee  Road  108.0  99.4  99.4   \n",
       "67 2017-10-21  2017-2018 Regular Season  Milwaukee  Home   97.0  93.7  93.7   \n",
       "\n",
       "     OEFF   DEFF REST DAYS  OPENING ODDS  OPENING SPREAD  OPENING TOTAL  \\\n",
       "41  108.7  100.6        3+         208.5             6.0          208.5   \n",
       "67  103.6  123.8         1         210.0             1.5          210.0   \n",
       "\n",
       "            MOVEMENTS  CLOSING ODDS  MONEYLINE HALFTIME  \n",
       "41  208.5 / 207 / 204         203.0      100.0    101.5  \n",
       "67                -14          -1.5     -122.0  -2 EVEN  "
      ]
     },
     "execution_count": 55,
     "metadata": {},
     "output_type": "execute_result"
    }
   ],
   "source": [
    "defensive[defensive['TEAMS'] == 'Milwaukee'].head(2)"
   ]
  },
  {
   "cell_type": "markdown",
   "metadata": {},
   "source": [
    "## Merge Team Offensive data to Player stats "
   ]
  },
  {
   "cell_type": "code",
   "execution_count": 56,
   "metadata": {},
   "outputs": [],
   "source": [
    "df = pd.merge(Player_stats, offensive, how='left', left_on=['DATE', 'OWN TEAM'], right_on=['DATE', 'TEAMS'])"
   ]
  },
  {
   "cell_type": "code",
   "execution_count": 57,
   "metadata": {},
   "outputs": [
    {
     "data": {
      "text/html": [
       "<div>\n",
       "<table border=\"1\" class=\"dataframe\">\n",
       "  <thead>\n",
       "    <tr style=\"text-align: right;\">\n",
       "      <th></th>\n",
       "      <th>DATE</th>\n",
       "      <th>DATA SET</th>\n",
       "      <th>PLAYER FULL NAME</th>\n",
       "      <th>POSITION</th>\n",
       "      <th>OWN TEAM</th>\n",
       "      <th>OPP TEAM</th>\n",
       "      <th>VENUE (R/H)</th>\n",
       "      <th>MIN</th>\n",
       "      <th>FG</th>\n",
       "      <th>FGA</th>\n",
       "      <th>...</th>\n",
       "      <th>OEFF</th>\n",
       "      <th>DEFF</th>\n",
       "      <th>REST DAYS</th>\n",
       "      <th>OPENING ODDS</th>\n",
       "      <th>OPENING SPREAD</th>\n",
       "      <th>OPENING TOTAL</th>\n",
       "      <th>MOVEMENTS</th>\n",
       "      <th>CLOSING ODDS</th>\n",
       "      <th>MONEYLINE</th>\n",
       "      <th>HALFTIME</th>\n",
       "    </tr>\n",
       "  </thead>\n",
       "  <tbody>\n",
       "    <tr>\n",
       "      <th>7192</th>\n",
       "      <td>2017-10-20</td>\n",
       "      <td>2017-2018 Regular Season</td>\n",
       "      <td>Giannis Antetokounmpo</td>\n",
       "      <td>PF</td>\n",
       "      <td>Milwaukee</td>\n",
       "      <td>Cleveland</td>\n",
       "      <td>R</td>\n",
       "      <td>36.9</td>\n",
       "      <td>13.0</td>\n",
       "      <td>22.0</td>\n",
       "      <td>...</td>\n",
       "      <td>108.7</td>\n",
       "      <td>100.6</td>\n",
       "      <td>3+</td>\n",
       "      <td>208.5</td>\n",
       "      <td>6.0</td>\n",
       "      <td>208.5</td>\n",
       "      <td>208.5 / 207 / 204</td>\n",
       "      <td>203.0</td>\n",
       "      <td>100.0</td>\n",
       "      <td>101.5</td>\n",
       "    </tr>\n",
       "    <tr>\n",
       "      <th>7193</th>\n",
       "      <td>2017-10-21</td>\n",
       "      <td>2017-2018 Regular Season</td>\n",
       "      <td>Giannis Antetokounmpo</td>\n",
       "      <td>PF</td>\n",
       "      <td>Milwaukee</td>\n",
       "      <td>Portland</td>\n",
       "      <td>H</td>\n",
       "      <td>38.5</td>\n",
       "      <td>15.0</td>\n",
       "      <td>22.0</td>\n",
       "      <td>...</td>\n",
       "      <td>103.6</td>\n",
       "      <td>123.8</td>\n",
       "      <td>1</td>\n",
       "      <td>210.0</td>\n",
       "      <td>1.5</td>\n",
       "      <td>210.0</td>\n",
       "      <td>-14</td>\n",
       "      <td>-1.5</td>\n",
       "      <td>-122.0</td>\n",
       "      <td>-2 EVEN</td>\n",
       "    </tr>\n",
       "  </tbody>\n",
       "</table>\n",
       "<p>2 rows × 39 columns</p>\n",
       "</div>"
      ],
      "text/plain": [
       "           DATE                  DATA SET       PLAYER FULL NAME POSITION  \\\n",
       "7192 2017-10-20  2017-2018 Regular Season  Giannis Antetokounmpo       PF   \n",
       "7193 2017-10-21  2017-2018 Regular Season  Giannis Antetokounmpo       PF   \n",
       "\n",
       "       OWN TEAM   OPP TEAM VENUE (R/H)   MIN    FG   FGA    ...      OEFF  \\\n",
       "7192  Milwaukee  Cleveland           R  36.9  13.0  22.0    ...     108.7   \n",
       "7193  Milwaukee   Portland           H  38.5  15.0  22.0    ...     103.6   \n",
       "\n",
       "       DEFF  REST DAYS  OPENING ODDS  OPENING SPREAD  OPENING TOTAL  \\\n",
       "7192  100.6         3+         208.5             6.0          208.5   \n",
       "7193  123.8          1         210.0             1.5          210.0   \n",
       "\n",
       "              MOVEMENTS  CLOSING ODDS  MONEYLINE  HALFTIME  \n",
       "7192  208.5 / 207 / 204         203.0      100.0     101.5  \n",
       "7193                -14          -1.5     -122.0   -2 EVEN  \n",
       "\n",
       "[2 rows x 39 columns]"
      ]
     },
     "execution_count": 57,
     "metadata": {},
     "output_type": "execute_result"
    }
   ],
   "source": [
    "df[df['TEAMS'] == 'Milwaukee'].head(2)"
   ]
  },
  {
   "cell_type": "markdown",
   "metadata": {},
   "source": [
    "### Naming convention for defensive team data"
   ]
  },
  {
   "cell_type": "code",
   "execution_count": 58,
   "metadata": {},
   "outputs": [],
   "source": [
    "defensive.columns = [col + ' DEF' for col in defensive.columns]\n"
   ]
  },
  {
   "cell_type": "markdown",
   "metadata": {},
   "source": [
    "## Merge Team Defensive data to Player Stat + Offensive"
   ]
  },
  {
   "cell_type": "code",
   "execution_count": 59,
   "metadata": {},
   "outputs": [],
   "source": [
    "df = pd.merge(df, defensive, how='left', left_on=['DATE', 'OPP TEAM'], right_on=['DATE DEF', 'TEAMS DEF'])"
   ]
  },
  {
   "cell_type": "code",
   "execution_count": 60,
   "metadata": {},
   "outputs": [
    {
     "data": {
      "text/plain": [
       "(24773, 56)"
      ]
     },
     "execution_count": 60,
     "metadata": {},
     "output_type": "execute_result"
    }
   ],
   "source": [
    "df.shape"
   ]
  },
  {
   "cell_type": "code",
   "execution_count": 61,
   "metadata": {},
   "outputs": [
    {
     "data": {
      "text/html": [
       "<div>\n",
       "<table border=\"1\" class=\"dataframe\">\n",
       "  <thead>\n",
       "    <tr style=\"text-align: right;\">\n",
       "      <th></th>\n",
       "      <th>DATE</th>\n",
       "      <th>DATA SET</th>\n",
       "      <th>PLAYER FULL NAME</th>\n",
       "      <th>POSITION</th>\n",
       "      <th>OWN TEAM</th>\n",
       "      <th>OPP TEAM</th>\n",
       "      <th>VENUE (R/H)</th>\n",
       "      <th>MIN</th>\n",
       "      <th>FG</th>\n",
       "      <th>FGA</th>\n",
       "      <th>...</th>\n",
       "      <th>OEFF DEF</th>\n",
       "      <th>DEFF DEF</th>\n",
       "      <th>REST DAYS DEF</th>\n",
       "      <th>OPENING ODDS DEF</th>\n",
       "      <th>OPENING SPREAD DEF</th>\n",
       "      <th>OPENING TOTAL DEF</th>\n",
       "      <th>MOVEMENTS DEF</th>\n",
       "      <th>CLOSING ODDS DEF</th>\n",
       "      <th>MONEYLINE DEF</th>\n",
       "      <th>HALFTIME DEF</th>\n",
       "    </tr>\n",
       "  </thead>\n",
       "  <tbody>\n",
       "    <tr>\n",
       "      <th>0</th>\n",
       "      <td>2017-10-17</td>\n",
       "      <td>2017-2018 Regular Season</td>\n",
       "      <td>Gordon Hayward</td>\n",
       "      <td>SF</td>\n",
       "      <td>Boston</td>\n",
       "      <td>Cleveland</td>\n",
       "      <td>NaN</td>\n",
       "      <td>NaN</td>\n",
       "      <td>NaN</td>\n",
       "      <td>NaN</td>\n",
       "      <td>...</td>\n",
       "      <td>NaN</td>\n",
       "      <td>NaN</td>\n",
       "      <td>NaN</td>\n",
       "      <td>NaN</td>\n",
       "      <td>NaN</td>\n",
       "      <td>NaN</td>\n",
       "      <td>NaN</td>\n",
       "      <td>NaN</td>\n",
       "      <td>NaN</td>\n",
       "      <td>NaN</td>\n",
       "    </tr>\n",
       "    <tr>\n",
       "      <th>1</th>\n",
       "      <td>2017-10-17</td>\n",
       "      <td>2017-2018 Regular Season</td>\n",
       "      <td>Jayson Tatum</td>\n",
       "      <td>SF</td>\n",
       "      <td>Boston</td>\n",
       "      <td>Cleveland</td>\n",
       "      <td>NaN</td>\n",
       "      <td>NaN</td>\n",
       "      <td>NaN</td>\n",
       "      <td>NaN</td>\n",
       "      <td>...</td>\n",
       "      <td>NaN</td>\n",
       "      <td>NaN</td>\n",
       "      <td>NaN</td>\n",
       "      <td>NaN</td>\n",
       "      <td>NaN</td>\n",
       "      <td>NaN</td>\n",
       "      <td>NaN</td>\n",
       "      <td>NaN</td>\n",
       "      <td>NaN</td>\n",
       "      <td>NaN</td>\n",
       "    </tr>\n",
       "  </tbody>\n",
       "</table>\n",
       "<p>2 rows × 56 columns</p>\n",
       "</div>"
      ],
      "text/plain": [
       "        DATE                  DATA SET PLAYER FULL NAME POSITION OWN TEAM  \\\n",
       "0 2017-10-17  2017-2018 Regular Season   Gordon Hayward       SF   Boston   \n",
       "1 2017-10-17  2017-2018 Regular Season     Jayson Tatum       SF   Boston   \n",
       "\n",
       "    OPP TEAM VENUE (R/H)  MIN  FG  FGA      ...       OEFF DEF  DEFF DEF  \\\n",
       "0  Cleveland         NaN  NaN NaN  NaN      ...            NaN       NaN   \n",
       "1  Cleveland         NaN  NaN NaN  NaN      ...            NaN       NaN   \n",
       "\n",
       "   REST DAYS DEF  OPENING ODDS DEF  OPENING SPREAD DEF  OPENING TOTAL DEF  \\\n",
       "0            NaN               NaN                 NaN                NaN   \n",
       "1            NaN               NaN                 NaN                NaN   \n",
       "\n",
       "   MOVEMENTS DEF  CLOSING ODDS DEF  MONEYLINE DEF  HALFTIME DEF  \n",
       "0            NaN               NaN            NaN           NaN  \n",
       "1            NaN               NaN            NaN           NaN  \n",
       "\n",
       "[2 rows x 56 columns]"
      ]
     },
     "execution_count": 61,
     "metadata": {},
     "output_type": "execute_result"
    }
   ],
   "source": [
    "df.head(2)"
   ]
  },
  {
   "cell_type": "markdown",
   "metadata": {},
   "source": [
    "### Adjust date format for later"
   ]
  },
  {
   "cell_type": "code",
   "execution_count": 62,
   "metadata": {},
   "outputs": [],
   "source": [
    "df['DATE'] = df['DATE'].dt.strftime('%m/%d/%Y')\n",
    "df['DATE DEF'] = df['DATE DEF'].dt.strftime('%m/%d/%Y')"
   ]
  },
  {
   "cell_type": "code",
   "execution_count": 63,
   "metadata": {},
   "outputs": [
    {
     "data": {
      "text/html": [
       "<div>\n",
       "<table border=\"1\" class=\"dataframe\">\n",
       "  <thead>\n",
       "    <tr style=\"text-align: right;\">\n",
       "      <th></th>\n",
       "      <th>DATE</th>\n",
       "      <th>DATA SET</th>\n",
       "      <th>PLAYER FULL NAME</th>\n",
       "      <th>POSITION</th>\n",
       "      <th>OWN TEAM</th>\n",
       "      <th>OPP TEAM</th>\n",
       "      <th>VENUE (R/H)</th>\n",
       "      <th>MIN</th>\n",
       "      <th>FG</th>\n",
       "      <th>FGA</th>\n",
       "      <th>...</th>\n",
       "      <th>OEFF DEF</th>\n",
       "      <th>DEFF DEF</th>\n",
       "      <th>REST DAYS DEF</th>\n",
       "      <th>OPENING ODDS DEF</th>\n",
       "      <th>OPENING SPREAD DEF</th>\n",
       "      <th>OPENING TOTAL DEF</th>\n",
       "      <th>MOVEMENTS DEF</th>\n",
       "      <th>CLOSING ODDS DEF</th>\n",
       "      <th>MONEYLINE DEF</th>\n",
       "      <th>HALFTIME DEF</th>\n",
       "    </tr>\n",
       "  </thead>\n",
       "  <tbody>\n",
       "    <tr>\n",
       "      <th>0</th>\n",
       "      <td>10/17/2017</td>\n",
       "      <td>2017-2018 Regular Season</td>\n",
       "      <td>Gordon Hayward</td>\n",
       "      <td>SF</td>\n",
       "      <td>Boston</td>\n",
       "      <td>Cleveland</td>\n",
       "      <td>NaN</td>\n",
       "      <td>NaN</td>\n",
       "      <td>NaN</td>\n",
       "      <td>NaN</td>\n",
       "      <td>...</td>\n",
       "      <td>NaN</td>\n",
       "      <td>NaN</td>\n",
       "      <td>NaN</td>\n",
       "      <td>NaN</td>\n",
       "      <td>NaN</td>\n",
       "      <td>NaN</td>\n",
       "      <td>NaN</td>\n",
       "      <td>NaN</td>\n",
       "      <td>NaN</td>\n",
       "      <td>NaN</td>\n",
       "    </tr>\n",
       "    <tr>\n",
       "      <th>1</th>\n",
       "      <td>10/17/2017</td>\n",
       "      <td>2017-2018 Regular Season</td>\n",
       "      <td>Jayson Tatum</td>\n",
       "      <td>SF</td>\n",
       "      <td>Boston</td>\n",
       "      <td>Cleveland</td>\n",
       "      <td>NaN</td>\n",
       "      <td>NaN</td>\n",
       "      <td>NaN</td>\n",
       "      <td>NaN</td>\n",
       "      <td>...</td>\n",
       "      <td>NaN</td>\n",
       "      <td>NaN</td>\n",
       "      <td>NaN</td>\n",
       "      <td>NaN</td>\n",
       "      <td>NaN</td>\n",
       "      <td>NaN</td>\n",
       "      <td>NaN</td>\n",
       "      <td>NaN</td>\n",
       "      <td>NaN</td>\n",
       "      <td>NaN</td>\n",
       "    </tr>\n",
       "  </tbody>\n",
       "</table>\n",
       "<p>2 rows × 56 columns</p>\n",
       "</div>"
      ],
      "text/plain": [
       "         DATE                  DATA SET PLAYER FULL NAME POSITION OWN TEAM  \\\n",
       "0  10/17/2017  2017-2018 Regular Season   Gordon Hayward       SF   Boston   \n",
       "1  10/17/2017  2017-2018 Regular Season     Jayson Tatum       SF   Boston   \n",
       "\n",
       "    OPP TEAM VENUE (R/H)  MIN  FG  FGA      ...       OEFF DEF  DEFF DEF  \\\n",
       "0  Cleveland         NaN  NaN NaN  NaN      ...            NaN       NaN   \n",
       "1  Cleveland         NaN  NaN NaN  NaN      ...            NaN       NaN   \n",
       "\n",
       "   REST DAYS DEF  OPENING ODDS DEF  OPENING SPREAD DEF  OPENING TOTAL DEF  \\\n",
       "0            NaN               NaN                 NaN                NaN   \n",
       "1            NaN               NaN                 NaN                NaN   \n",
       "\n",
       "   MOVEMENTS DEF  CLOSING ODDS DEF  MONEYLINE DEF  HALFTIME DEF  \n",
       "0            NaN               NaN            NaN           NaN  \n",
       "1            NaN               NaN            NaN           NaN  \n",
       "\n",
       "[2 rows x 56 columns]"
      ]
     },
     "execution_count": 63,
     "metadata": {},
     "output_type": "execute_result"
    }
   ],
   "source": [
    "df.head(2)"
   ]
  },
  {
   "cell_type": "markdown",
   "metadata": {},
   "source": [
    "## Create Rolling statistical averages of 3-days, 5-days, & 10-days"
   ]
  },
  {
   "cell_type": "code",
   "execution_count": 64,
   "metadata": {},
   "outputs": [
    {
     "data": {
      "text/html": [
       "<div>\n",
       "<table border=\"1\" class=\"dataframe\">\n",
       "  <thead>\n",
       "    <tr style=\"text-align: right;\">\n",
       "      <th></th>\n",
       "      <th>DATE</th>\n",
       "      <th>DATA SET</th>\n",
       "      <th>PLAYER FULL NAME</th>\n",
       "      <th>POSITION</th>\n",
       "      <th>OWN TEAM</th>\n",
       "      <th>OPP TEAM</th>\n",
       "      <th>VENUE (R/H)</th>\n",
       "      <th>MIN</th>\n",
       "      <th>FG</th>\n",
       "      <th>FGA</th>\n",
       "      <th>...</th>\n",
       "      <th>OEFF DEF 3-day mean</th>\n",
       "      <th>DEFF DEF 3-day mean</th>\n",
       "      <th>REST DAYS DEF 3-day mean</th>\n",
       "      <th>OPENING ODDS DEF 3-day mean</th>\n",
       "      <th>OPENING SPREAD DEF 3-day mean</th>\n",
       "      <th>OPENING TOTAL DEF 3-day mean</th>\n",
       "      <th>MOVEMENTS DEF 3-day mean</th>\n",
       "      <th>CLOSING ODDS DEF 3-day mean</th>\n",
       "      <th>MONEYLINE DEF 3-day mean</th>\n",
       "      <th>HALFTIME DEF 3-day mean</th>\n",
       "    </tr>\n",
       "  </thead>\n",
       "  <tbody>\n",
       "    <tr>\n",
       "      <th>0</th>\n",
       "      <td>10/17/2017</td>\n",
       "      <td>2017-2018 Regular Season</td>\n",
       "      <td>Gordon Hayward</td>\n",
       "      <td>SF</td>\n",
       "      <td>Boston</td>\n",
       "      <td>Cleveland</td>\n",
       "      <td>NaN</td>\n",
       "      <td>NaN</td>\n",
       "      <td>NaN</td>\n",
       "      <td>NaN</td>\n",
       "      <td>...</td>\n",
       "      <td>NaN</td>\n",
       "      <td>NaN</td>\n",
       "      <td>NaN</td>\n",
       "      <td>NaN</td>\n",
       "      <td>NaN</td>\n",
       "      <td>NaN</td>\n",
       "      <td>NaN</td>\n",
       "      <td>NaN</td>\n",
       "      <td>NaN</td>\n",
       "      <td>NaN</td>\n",
       "    </tr>\n",
       "    <tr>\n",
       "      <th>1</th>\n",
       "      <td>10/17/2017</td>\n",
       "      <td>2017-2018 Regular Season</td>\n",
       "      <td>Jayson Tatum</td>\n",
       "      <td>SF</td>\n",
       "      <td>Boston</td>\n",
       "      <td>Cleveland</td>\n",
       "      <td>NaN</td>\n",
       "      <td>NaN</td>\n",
       "      <td>NaN</td>\n",
       "      <td>NaN</td>\n",
       "      <td>...</td>\n",
       "      <td>NaN</td>\n",
       "      <td>NaN</td>\n",
       "      <td>NaN</td>\n",
       "      <td>NaN</td>\n",
       "      <td>NaN</td>\n",
       "      <td>NaN</td>\n",
       "      <td>NaN</td>\n",
       "      <td>NaN</td>\n",
       "      <td>NaN</td>\n",
       "      <td>NaN</td>\n",
       "    </tr>\n",
       "  </tbody>\n",
       "</table>\n",
       "<p>2 rows × 224 columns</p>\n",
       "</div>"
      ],
      "text/plain": [
       "         DATE                  DATA SET PLAYER FULL NAME POSITION OWN TEAM  \\\n",
       "0  10/17/2017  2017-2018 Regular Season   Gordon Hayward       SF   Boston   \n",
       "1  10/17/2017  2017-2018 Regular Season     Jayson Tatum       SF   Boston   \n",
       "\n",
       "    OPP TEAM VENUE (R/H)  MIN  FG  FGA           ...             \\\n",
       "0  Cleveland         NaN  NaN NaN  NaN           ...              \n",
       "1  Cleveland         NaN  NaN NaN  NaN           ...              \n",
       "\n",
       "   OEFF DEF 3-day mean  DEFF DEF 3-day mean  REST DAYS DEF 3-day mean  \\\n",
       "0                  NaN                  NaN                       NaN   \n",
       "1                  NaN                  NaN                       NaN   \n",
       "\n",
       "   OPENING ODDS DEF 3-day mean  OPENING SPREAD DEF 3-day mean  \\\n",
       "0                          NaN                            NaN   \n",
       "1                          NaN                            NaN   \n",
       "\n",
       "   OPENING TOTAL DEF 3-day mean  MOVEMENTS DEF 3-day mean  \\\n",
       "0                           NaN                       NaN   \n",
       "1                           NaN                       NaN   \n",
       "\n",
       "   CLOSING ODDS DEF 3-day mean  MONEYLINE DEF 3-day mean  \\\n",
       "0                          NaN                       NaN   \n",
       "1                          NaN                       NaN   \n",
       "\n",
       "   HALFTIME DEF 3-day mean  \n",
       "0                      NaN  \n",
       "1                      NaN  \n",
       "\n",
       "[2 rows x 224 columns]"
      ]
     },
     "execution_count": 64,
     "metadata": {},
     "output_type": "execute_result"
    }
   ],
   "source": [
    "ten_game_mean = pd.DataFrame()\n",
    "five_game_mean = pd.DataFrame()\n",
    "three_game_mean = pd.DataFrame()\n",
    "\n",
    "for i in df['PLAYER FULL NAME'].unique():\n",
    "    temp = df[df['PLAYER FULL NAME'] == i]\n",
    "\n",
    "    temp1 = temp.rolling(10).mean().shift(1)\n",
    "    ten_game_mean = pd.concat([ten_game_mean, temp1], axis=0)\n",
    "\n",
    "    temp2 = temp.rolling(5).mean().shift(1)\n",
    "    five_game_mean = pd.concat([five_game_mean, temp2], axis=0)\n",
    "    \n",
    "    temp3 = temp.rolling(3).mean().shift(1)\n",
    "    three_game_mean = pd.concat([three_game_mean, temp3], axis=0)\n",
    "\n",
    "ten_game_mean.columns = [col + ' 10-day mean' for col in df.columns]\n",
    "five_game_mean.columns = [col + ' 5-day mean' for col in df.columns]\n",
    "three_game_mean.columns = [col + ' 3-day mean' for col in df.columns]\n",
    "new_df = pd.concat([df, ten_game_mean, five_game_mean, three_game_mean], axis=1)\n",
    "new_df.head(2)"
   ]
  },
  {
   "cell_type": "code",
   "execution_count": 65,
   "metadata": {},
   "outputs": [
    {
     "data": {
      "text/plain": [
       "(24773, 224)"
      ]
     },
     "execution_count": 65,
     "metadata": {},
     "output_type": "execute_result"
    }
   ],
   "source": [
    "new_df.shape"
   ]
  },
  {
   "cell_type": "markdown",
   "metadata": {},
   "source": [
    "## Use single player for Linear Regression - Lebron James(LBJ)"
   ]
  },
  {
   "cell_type": "code",
   "execution_count": 66,
   "metadata": {},
   "outputs": [],
   "source": [
    "LBJ = new_df.loc[new_df['PLAYER FULL NAME'] == 'LeBron James'].copy()"
   ]
  },
  {
   "cell_type": "code",
   "execution_count": 74,
   "metadata": {},
   "outputs": [],
   "source": [
    "#LBJ"
   ]
  },
  {
   "cell_type": "code",
   "execution_count": 75,
   "metadata": {},
   "outputs": [
    {
     "data": {
      "text/html": [
       "<div>\n",
       "<table border=\"1\" class=\"dataframe\">\n",
       "  <thead>\n",
       "    <tr style=\"text-align: right;\">\n",
       "      <th></th>\n",
       "      <th>DATE</th>\n",
       "      <th>DATA SET</th>\n",
       "      <th>PLAYER FULL NAME</th>\n",
       "      <th>POSITION</th>\n",
       "      <th>OWN TEAM</th>\n",
       "      <th>OPP TEAM</th>\n",
       "      <th>VENUE (R/H)</th>\n",
       "      <th>MIN</th>\n",
       "      <th>FG</th>\n",
       "      <th>FGA</th>\n",
       "      <th>...</th>\n",
       "      <th>OEFF DEF 3-day mean</th>\n",
       "      <th>DEFF DEF 3-day mean</th>\n",
       "      <th>REST DAYS DEF 3-day mean</th>\n",
       "      <th>OPENING ODDS DEF 3-day mean</th>\n",
       "      <th>OPENING SPREAD DEF 3-day mean</th>\n",
       "      <th>OPENING TOTAL DEF 3-day mean</th>\n",
       "      <th>MOVEMENTS DEF 3-day mean</th>\n",
       "      <th>CLOSING ODDS DEF 3-day mean</th>\n",
       "      <th>MONEYLINE DEF 3-day mean</th>\n",
       "      <th>HALFTIME DEF 3-day mean</th>\n",
       "    </tr>\n",
       "  </thead>\n",
       "  <tbody>\n",
       "    <tr>\n",
       "      <th>608</th>\n",
       "      <td>11/09/2017</td>\n",
       "      <td>2017-2018 Regular Season</td>\n",
       "      <td>LeBron James</td>\n",
       "      <td>SF</td>\n",
       "      <td>Cleveland</td>\n",
       "      <td>Houston</td>\n",
       "      <td>H</td>\n",
       "      <td>36.7</td>\n",
       "      <td>10.0</td>\n",
       "      <td>20.0</td>\n",
       "      <td>...</td>\n",
       "      <td>108.200000</td>\n",
       "      <td>118.4</td>\n",
       "      <td>3IN4</td>\n",
       "      <td>134.166667</td>\n",
       "      <td>-1.166667</td>\n",
       "      <td>214.0</td>\n",
       "      <td>203.5 / 204 / 204o11</td>\n",
       "      <td>135.833333</td>\n",
       "      <td>-159.000000</td>\n",
       "      <td>99.5</td>\n",
       "    </tr>\n",
       "    <tr>\n",
       "      <th>609</th>\n",
       "      <td>11/11/2017</td>\n",
       "      <td>2017-2018 Regular Season</td>\n",
       "      <td>LeBron James</td>\n",
       "      <td>SF</td>\n",
       "      <td>Cleveland</td>\n",
       "      <td>Dallas</td>\n",
       "      <td>R</td>\n",
       "      <td>40.0</td>\n",
       "      <td>15.0</td>\n",
       "      <td>24.0</td>\n",
       "      <td>...</td>\n",
       "      <td>112.833333</td>\n",
       "      <td>112.3</td>\n",
       "      <td>1</td>\n",
       "      <td>136.500000</td>\n",
       "      <td>1.166667</td>\n",
       "      <td>205.5</td>\n",
       "      <td>-11.85502959</td>\n",
       "      <td>137.500000</td>\n",
       "      <td>-5.666667</td>\n",
       "      <td>2.5</td>\n",
       "    </tr>\n",
       "  </tbody>\n",
       "</table>\n",
       "<p>2 rows × 224 columns</p>\n",
       "</div>"
      ],
      "text/plain": [
       "           DATE                  DATA SET PLAYER FULL NAME POSITION  \\\n",
       "608  11/09/2017  2017-2018 Regular Season     LeBron James       SF   \n",
       "609  11/11/2017  2017-2018 Regular Season     LeBron James       SF   \n",
       "\n",
       "      OWN TEAM OPP TEAM VENUE (R/H)   MIN    FG   FGA  \\\n",
       "608  Cleveland  Houston           H  36.7  10.0  20.0   \n",
       "609  Cleveland   Dallas           R  40.0  15.0  24.0   \n",
       "\n",
       "              ...             OEFF DEF 3-day mean  DEFF DEF 3-day mean  \\\n",
       "608           ...                      108.200000                118.4   \n",
       "609           ...                      112.833333                112.3   \n",
       "\n",
       "     REST DAYS DEF 3-day mean  OPENING ODDS DEF 3-day mean  \\\n",
       "608                      3IN4                   134.166667   \n",
       "609                         1                   136.500000   \n",
       "\n",
       "     OPENING SPREAD DEF 3-day mean  OPENING TOTAL DEF 3-day mean  \\\n",
       "608                      -1.166667                         214.0   \n",
       "609                       1.166667                         205.5   \n",
       "\n",
       "     MOVEMENTS DEF 3-day mean  CLOSING ODDS DEF 3-day mean  \\\n",
       "608      203.5 / 204 / 204o11                   135.833333   \n",
       "609              -11.85502959                   137.500000   \n",
       "\n",
       "     MONEYLINE DEF 3-day mean  HALFTIME DEF 3-day mean  \n",
       "608               -159.000000                     99.5  \n",
       "609                 -5.666667                      2.5  \n",
       "\n",
       "[2 rows x 224 columns]"
      ]
     },
     "execution_count": 75,
     "metadata": {},
     "output_type": "execute_result"
    }
   ],
   "source": [
    "LBJ.head(2)"
   ]
  },
  {
   "cell_type": "markdown",
   "metadata": {},
   "source": [
    "#### Understand what statistics correlate to points scored"
   ]
  },
  {
   "cell_type": "code",
   "execution_count": 69,
   "metadata": {},
   "outputs": [],
   "source": [
    "# abs(LBJ.corr()['PTS_x']).sort_values(ascending=False)"
   ]
  },
  {
   "cell_type": "code",
   "execution_count": 70,
   "metadata": {},
   "outputs": [],
   "source": [
    "#list(LBJ.columns.values)"
   ]
  },
  {
   "cell_type": "markdown",
   "metadata": {},
   "source": [
    "### Drop null values"
   ]
  },
  {
   "cell_type": "code",
   "execution_count": 71,
   "metadata": {},
   "outputs": [],
   "source": [
    "LBJ.dropna(inplace=True)"
   ]
  },
  {
   "cell_type": "code",
   "execution_count": 660,
   "metadata": {},
   "outputs": [
    {
     "data": {
      "text/plain": [
       "(60, 224)"
      ]
     },
     "execution_count": 660,
     "metadata": {},
     "output_type": "execute_result"
    }
   ],
   "source": [
    "LBJ.shape"
   ]
  },
  {
   "cell_type": "code",
   "execution_count": 72,
   "metadata": {},
   "outputs": [
    {
     "data": {
      "image/png": "[encoded data removed]",
      "text/plain": [
       "<matplotlib.figure.Figure at 0x10de32358>"
      ]
     },
     "metadata": {},
     "output_type": "display_data"
    }
   ],
   "source": [
    "fig, ax = plt.subplots(figsize=(14,10))\n",
    "sns.distplot(LBJ['PTS_x'])\n",
    "plt.title(\"Distribution of LBJ Pts/Game\");"
   ]
  },
  {
   "cell_type": "code",
   "execution_count": 76,
   "metadata": {},
   "outputs": [],
   "source": [
    "features_LBJ = list(LBJ.describe().columns)"
   ]
  },
  {
   "cell_type": "code",
   "execution_count": 77,
   "metadata": {},
   "outputs": [],
   "source": [
    "features = [ 'PTS_x 3-day mean', 'DR 5-day mean', 'PTS_x 10-day mean', 'FGA 5-day mean'  ]\n",
    "# 'PF', 'ST', 'TO', 'BL'"
   ]
  },
  {
   "cell_type": "code",
   "execution_count": 78,
   "metadata": {},
   "outputs": [],
   "source": [
    "X = LBJ[features]\n",
    "y = LBJ['PTS_x']\n",
    "y = y.shift(1)\n",
    "X = X[1:]\n",
    "y.dropna(inplace=True)\n",
    "\n",
    "X_train, X_test, y_train, y_test = train_test_split(X,y, random_state = 9)"
   ]
  },
  {
   "cell_type": "code",
   "execution_count": 79,
   "metadata": {},
   "outputs": [],
   "source": [
    "ss = StandardScaler()\n",
    "#lasso = Lasso(max_iter=70000)\n",
    "lr = LinearRegression()\n",
    "pipe = Pipeline([\n",
    "#    ('poly', poly),     #transformer\n",
    "    ('ss', ss),         #transformer\n",
    "#    ('lasso', lasso)\n",
    "    ('lr', lr)])"
   ]
  },
  {
   "cell_type": "code",
   "execution_count": 80,
   "metadata": {},
   "outputs": [
    {
     "name": "stdout",
     "output_type": "stream",
     "text": [
      "0.2712488981725893\n"
     ]
    },
    {
     "name": "stderr",
     "output_type": "stream",
     "text": [
      "/anaconda3/lib/python3.6/site-packages/scipy/linalg/basic.py:1226: RuntimeWarning: internal gelsd driver lwork query error, required iwork dimension not returned. This is likely the result of LAPACK bug 0038, fixed in LAPACK 3.2.2 (released July 21, 2010). Falling back to 'gelss' driver.\n",
      "  warnings.warn(mesg, RuntimeWarning)\n"
     ]
    },
    {
     "data": {
      "text/plain": [
       "{}"
      ]
     },
     "execution_count": 80,
     "metadata": {},
     "output_type": "execute_result"
    }
   ],
   "source": [
    "params = {\n",
    "#  'lasso__alpha': np.arange(.001,.15, .0025)\n",
    "}\n",
    "gs = GridSearchCV(pipe, param_grid=params)\n",
    "gs.fit(X_train, y_train)\n",
    "print(gs.best_score_)\n",
    "gs.best_params_"
   ]
  },
  {
   "cell_type": "code",
   "execution_count": 81,
   "metadata": {},
   "outputs": [
    {
     "data": {
      "text/plain": [
       "0.22107346709731768"
      ]
     },
     "execution_count": 81,
     "metadata": {},
     "output_type": "execute_result"
    }
   ],
   "source": [
    "gs.score(X_test, y_test)"
   ]
  },
  {
   "cell_type": "code",
   "execution_count": 82,
   "metadata": {},
   "outputs": [
    {
     "data": {
      "text/plain": [
       "52.32309163684952"
      ]
     },
     "execution_count": 82,
     "metadata": {},
     "output_type": "execute_result"
    }
   ],
   "source": [
    "mean_squared_error(y_test, gs.predict(X_test))"
   ]
  },
  {
   "cell_type": "code",
   "execution_count": 83,
   "metadata": {},
   "outputs": [],
   "source": [
    "new_df.dropna(inplace=True)"
   ]
  },
  {
   "cell_type": "code",
   "execution_count": 84,
   "metadata": {},
   "outputs": [
    {
     "data": {
      "text/plain": [
       "(17218, 224)"
      ]
     },
     "execution_count": 84,
     "metadata": {},
     "output_type": "execute_result"
    }
   ],
   "source": [
    "new_df.shape"
   ]
  },
  {
   "cell_type": "code",
   "execution_count": 85,
   "metadata": {},
   "outputs": [],
   "source": [
    "# features = [ 'PTS_x 3-day mean', 'DR 5-day mean', 'PTS_x 10-day mean', 'FGA 5-day mean'  ]\n",
    "features2 = list(new_df.describe().columns)\n",
    "# 'PF', 'ST', 'TO', 'BL'\n",
    "X = new_df[features2]\n",
    "y = new_df['PTS_x']\n",
    "y = y.shift(1)\n",
    "X = X[1:]\n",
    "y.dropna(inplace=True)\n",
    "\n",
    "X_train, X_test, y_train, y_test = train_test_split(X,y, random_state = 9)"
   ]
  },
  {
   "cell_type": "code",
   "execution_count": null,
   "metadata": {},
   "outputs": [],
   "source": []
  },
  {
   "cell_type": "markdown",
   "metadata": {},
   "source": [
    "# Neural Network Setup"
   ]
  },
  {
   "cell_type": "markdown",
   "metadata": {},
   "source": [
    "### Scaling all the data"
   ]
  },
  {
   "cell_type": "code",
   "execution_count": 86,
   "metadata": {},
   "outputs": [
    {
     "name": "stderr",
     "output_type": "stream",
     "text": [
      "/anaconda3/lib/python3.6/site-packages/sklearn/preprocessing/data.py:586: DeprecationWarning: Passing 1d arrays as data is deprecated in 0.17 and will raise ValueError in 0.19. Reshape your data either using X.reshape(-1, 1) if your data has a single feature or X.reshape(1, -1) if it contains a single sample.\n",
      "  warnings.warn(DEPRECATION_MSG_1D, DeprecationWarning)\n",
      "/anaconda3/lib/python3.6/site-packages/sklearn/preprocessing/data.py:649: DeprecationWarning: Passing 1d arrays as data is deprecated in 0.17 and will raise ValueError in 0.19. Reshape your data either using X.reshape(-1, 1) if your data has a single feature or X.reshape(1, -1) if it contains a single sample.\n",
      "  warnings.warn(DEPRECATION_MSG_1D, DeprecationWarning)\n",
      "/anaconda3/lib/python3.6/site-packages/sklearn/preprocessing/data.py:649: DeprecationWarning: Passing 1d arrays as data is deprecated in 0.17 and will raise ValueError in 0.19. Reshape your data either using X.reshape(-1, 1) if your data has a single feature or X.reshape(1, -1) if it contains a single sample.\n",
      "  warnings.warn(DEPRECATION_MSG_1D, DeprecationWarning)\n"
     ]
    }
   ],
   "source": [
    "ss = StandardScaler()\n",
    "X_train_sc = ss.fit_transform(X_train)\n",
    "X_test_sc = ss.transform(X_test)\n",
    "\n",
    "y_train_sc = ss.fit_transform(y_train)\n",
    "y_test_sc = ss.transform(y_test)\n",
    "\n",
    "X_train_sc2 = np.reshape(X_train_sc, (X_train_sc.shape[0], 1, X_train_sc.shape[1]))\n",
    "X_test_sc2 = np.reshape(X_test_sc, (X_test_sc.shape[0], 1, X_test_sc.shape[1]))"
   ]
  },
  {
   "cell_type": "markdown",
   "metadata": {},
   "source": [
    "#### Find imput shape for nural net"
   ]
  },
  {
   "cell_type": "code",
   "execution_count": 87,
   "metadata": {},
   "outputs": [
    {
     "data": {
      "text/plain": [
       "(12912, 1, 144)"
      ]
     },
     "execution_count": 87,
     "metadata": {},
     "output_type": "execute_result"
    }
   ],
   "source": [
    "X_train_sc2.shape"
   ]
  },
  {
   "cell_type": "code",
   "execution_count": 88,
   "metadata": {},
   "outputs": [
    {
     "name": "stdout",
     "output_type": "stream",
     "text": [
      "Train on 12912 samples, validate on 4305 samples\n",
      "Epoch 1/5\n",
      " - 5s - loss: 0.4883 - val_loss: 0.3877\n",
      "Epoch 2/5\n",
      " - 2s - loss: 0.3910 - val_loss: 0.3716\n",
      "Epoch 3/5\n",
      " - 2s - loss: 0.3740 - val_loss: 0.3661\n",
      "Epoch 4/5\n",
      " - 2s - loss: 0.3668 - val_loss: 0.3640\n",
      "Epoch 5/5\n",
      " - 2s - loss: 0.3584 - val_loss: 0.3637\n"
     ]
    }
   ],
   "source": [
    "model = Sequential()\n",
    "model.add(LSTM(50, input_shape=(1, 144), return_sequences=True))\n",
    "model.add(Dropout(.5))\n",
    "model.add(LSTM(5))\n",
    "model.add(Dense(1, activation='linear'))\n",
    "\n",
    "model.compile(loss='mean_squared_error', optimizer='adam')\n",
    "# hidden layers = Number of layers between imputs and targets\n",
    "\n",
    "history = model.fit(X_train_sc2, y_train_sc, validation_data=(X_test_sc2, y_test_sc), epochs=5, shuffle=False, verbose=2)"
   ]
  },
  {
   "cell_type": "markdown",
   "metadata": {},
   "source": [
    "NBA games occur as time series shuffle=False"
   ]
  },
  {
   "cell_type": "code",
   "execution_count": 89,
   "metadata": {},
   "outputs": [
    {
     "data": {
      "image/png": "[encoded data removed]",
      "text/plain": [
       "<matplotlib.figure.Figure at 0x1253da908>"
      ]
     },
     "metadata": {},
     "output_type": "display_data"
    }
   ],
   "source": [
    "plt.figure(figsize=(16, 12))\n",
    "plt.plot(history.history['loss'], label='Training Loss')\n",
    "plt.plot(history.history['val_loss'], label='Test Loss')\n",
    "plt.legend();"
   ]
  },
  {
   "cell_type": "markdown",
   "metadata": {},
   "source": [
    "When test loss starts growing it begins over fitting -  meaning it looks good with training data but not with test  "
   ]
  },
  {
   "cell_type": "markdown",
   "metadata": {},
   "source": [
    "# Mean Squared Error"
   ]
  },
  {
   "cell_type": "code",
   "execution_count": 90,
   "metadata": {},
   "outputs": [
    {
     "data": {
      "text/plain": [
       "23.337581812669303"
      ]
     },
     "execution_count": 90,
     "metadata": {},
     "output_type": "execute_result"
    }
   ],
   "source": [
    "mean_squared_error(y_test, ss.inverse_transform(model.predict(X_test_sc2)))"
   ]
  },
  {
   "cell_type": "code",
   "execution_count": 91,
   "metadata": {},
   "outputs": [
    {
     "data": {
      "text/plain": [
       "4.830898654771108"
      ]
     },
     "execution_count": 91,
     "metadata": {},
     "output_type": "execute_result"
    }
   ],
   "source": [
    "np.sqrt(mean_squared_error(y_test, ss.inverse_transform(model.predict(X_test_sc2))))"
   ]
  },
  {
   "cell_type": "code",
   "execution_count": 92,
   "metadata": {},
   "outputs": [],
   "source": [
    "#precision recall wiki"
   ]
  },
  {
   "cell_type": "code",
   "execution_count": 677,
   "metadata": {},
   "outputs": [],
   "source": [
    "#long term, short term memory"
   ]
  },
  {
   "cell_type": "markdown",
   "metadata": {},
   "source": [
    "hidden layers = 2\n",
    "scaled all data\n",
    "50nodes\n",
    "on each iteration 50% of nodes arent dropped to the next layer\n",
    "second layer I hav 5 nodes\n",
    "activation linear because using linear regression\n",
    "compile the model to minimize the mean squared error\n",
    "then model is fit\n",
    "real error = 4.84\n",
    "\n",
    "can grasp relations between data in a seris"
   ]
  },
  {
   "cell_type": "code",
   "execution_count": null,
   "metadata": {},
   "outputs": [],
   "source": []
  }
 ],
 "metadata": {
  "kernelspec": {
   "display_name": "Python 3",
   "language": "python",
   "name": "python3"
  },
  "language_info": {
   "codemirror_mode": {
    "name": "ipython",
    "version": 3
   },
   "file_extension": ".py",
   "mimetype": "text/x-python",
   "name": "python",
   "nbconvert_exporter": "python",
   "pygments_lexer": "ipython3",
   "version": "3.6.3"
  }
 },
 "nbformat": 4,
 "nbformat_minor": 2
}
